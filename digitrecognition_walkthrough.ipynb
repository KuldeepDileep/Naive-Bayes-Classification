{
 "cells": [
  {
   "cell_type": "code",
   "execution_count": 1,
   "metadata": {},
   "outputs": [],
   "source": [
    "import matplotlib.pyplot as plt\n",
    "import pandas as pd\n",
    "import numpy as np\n",
    "# Import datasets, classifiers and performance metrics\n",
    "from sklearn import datasets,svm,tree, metrics\n",
    "import sklearn"
   ]
  },
  {
   "cell_type": "code",
   "execution_count": 2,
   "metadata": {},
   "outputs": [
    {
     "name": "stdout",
     "output_type": "stream",
     "text": [
      "Index(['label', 'pixel1', 'pixel2', 'pixel3', 'pixel4', 'pixel5', 'pixel6',\n",
      "       'pixel7', 'pixel8', 'pixel9',\n",
      "       ...\n",
      "       'pixel775', 'pixel776', 'pixel777', 'pixel778', 'pixel779', 'pixel780',\n",
      "       'pixel781', 'pixel782', 'pixel783', 'pixel784'],\n",
      "      dtype='object', length=785)\n",
      "(60000, 784)\n",
      "(60000,)\n"
     ]
    }
   ],
   "source": [
    "## The digits datas\n",
    "fashion_train = pd.read_csv('fashion-mnist_train.csv')\n",
    "fashion_test = pd.read_csv('fashion-mnist_test.csv')\n",
    "print(fashion_train.columns)\n",
    "trainX = np.array(fashion_train)[:,1:]\n",
    "testX = np.array(fashion_test)[:,1:]\n",
    "trainY = np.array(fashion_train)[:,0]\n",
    "testY = np.array(fashion_test)[:,0]\n",
    "print(trainX.shape)\n",
    "print(trainY.shape)"
   ]
  },
  {
   "cell_type": "code",
   "execution_count": 3,
   "metadata": {},
   "outputs": [
    {
     "data": {
      "text/plain": [
       "DecisionTreeClassifier()"
      ]
     },
     "execution_count": 3,
     "metadata": {},
     "output_type": "execute_result"
    }
   ],
   "source": [
    "classifier = tree.DecisionTreeClassifier()\n",
    "#classifier = sklearn.linear_model.Perceptron()\n",
    "classifier.fit(trainX, trainY)"
   ]
  },
  {
   "cell_type": "code",
   "execution_count": 4,
   "metadata": {},
   "outputs": [],
   "source": [
    "predictedY = classifier.predict(testX)"
   ]
  },
  {
   "cell_type": "code",
   "execution_count": 5,
   "metadata": {},
   "outputs": [
    {
     "name": "stdout",
     "output_type": "stream",
     "text": [
      "Accuracy: 0.7995\n",
      "Precision: [0.738 0.962 0.684 0.827 0.693 0.877 0.554 0.865 0.899 0.896]\n",
      "Recall: [0.72423945 0.94965449 0.7037037  0.8253493  0.67808219 0.90226337\n",
      " 0.55511022 0.85728444 0.91734694 0.88450148]\n",
      "Confusion Matrix: [[738   4  24  43  11   2 170   0  26   1]\n",
      " [  7 962   4  25   4   1  10   0   0   0]\n",
      " [ 20   4 684  13 140   0  97   0  14   0]\n",
      " [ 42  19  15 827  50   1  40   0   6   2]\n",
      " [  9   4 142  49 693   0 109   1  14   1]\n",
      " [  2   1   3   1   1 877   1  55   9  22]\n",
      " [167   3 118  37  96   1 554   0  20   2]\n",
      " [  1   0   0   0   0  62   0 865   9  72]\n",
      " [ 14   3   9   5   4  21  19   2 899   4]\n",
      " [  0   0   1   0   1  35   0  77   3 896]]\n"
     ]
    }
   ],
   "source": [
    "print('Accuracy:', metrics.accuracy_score(predictedY, testY))\n",
    "print('Precision:',metrics.precision_score(predictedY, testY, average=None))\n",
    "print('Recall:',metrics.recall_score(predictedY, testY,average=None))\n",
    "print('Confusion Matrix:',metrics.confusion_matrix(predictedY, testY))"
   ]
  },
  {
   "cell_type": "code",
   "execution_count": null,
   "metadata": {},
   "outputs": [],
   "source": [
    "classifier2 = svm.SVC(gamma=0.001)\n",
    "classifier2.fit(trainX, trainY)\n",
    "predictedY = classifier2.predict(testX)"
   ]
  },
  {
   "cell_type": "code",
   "execution_count": null,
   "metadata": {},
   "outputs": [],
   "source": [
    "print('Accuracy:', metrics.accuracy_score(predictedY, testY))\n",
    "print('Precision:',metrics.precision_score(predictedY, testY, average=None))\n",
    "print('Recall:',metrics.recall_score(predictedY, testY,average=None))\n",
    "print('Confusion Matrix:',metrics.confusion_matrix(predictedY, testY))"
   ]
  },
  {
   "cell_type": "code",
   "execution_count": null,
   "metadata": {},
   "outputs": [],
   "source": [
    "classifier3 = sklearn.linear_model.SGDClassifier()\n",
    "classifier3.fit(trainX, trainY)\n",
    "predictedY = classifier3.predict(testX)"
   ]
  },
  {
   "cell_type": "code",
   "execution_count": null,
   "metadata": {},
   "outputs": [],
   "source": [
    "print('Accuracy:', metrics.accuracy_score(predictedY, testY))\n",
    "print('Precision:',metrics.precision_score(predictedY, testY, average=None))\n",
    "print('Recall:',metrics.recall_score(predictedY, testY,average=None))\n",
    "print('Confusion Matrix:',metrics.confusion_matrix(predictedY, testY))"
   ]
  },
  {
   "cell_type": "code",
   "execution_count": null,
   "metadata": {},
   "outputs": [],
   "source": []
  }
 ],
 "metadata": {
  "kernelspec": {
   "display_name": "Python 3",
   "language": "python",
   "name": "python3"
  },
  "language_info": {
   "codemirror_mode": {
    "name": "ipython",
    "version": 3
   },
   "file_extension": ".py",
   "mimetype": "text/x-python",
   "name": "python",
   "nbconvert_exporter": "python",
   "pygments_lexer": "ipython3",
   "version": "3.8.3"
  }
 },
 "nbformat": 4,
 "nbformat_minor": 2
}
